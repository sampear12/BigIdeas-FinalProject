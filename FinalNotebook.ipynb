{
 "cells": [
  {
   "cell_type": "markdown",
   "metadata": {},
   "source": [
    "# Best Neighborhood for a Triathlon #\n",
    "### Katelyn Kunzmann, Samika Sanghvi, Henry Wilson\n",
    "\n",
    "Introduction: Introduce the project, your approach, talk about the process of how you came up with the metric and some alternatives you may have explored.\n",
    "\n",
    "\n",
    "The Metric: Describe your metric, what features are you measuring. What datasets are you using?\n",
    "\n",
    "\n",
    "The Best Neighborhood: Apply the metric from the previous section to determine the best neighborhood in Pittsburgh. Beyond just executing code, provide a narrative about why you think this is the best neighborhood. Incorporate a data visualization, perhaps to rank all of the neighborhoods or show a neighborhood’s best-ness over time. The key is to make a data driven argument.\n",
    "\n",
    "\n",
    "Conclusion: Reflect on how the data driven determination of “best neighborhood” is the same or different from your personal favorite neighborhood. Each member of the group should write their own response to this."
   ]
  },
  {
   "cell_type": "markdown",
   "metadata": {},
   "source": [
    "## Introduction ##\n",
    "After scrolling through all the different datasets on the WPRDC website, we each chose out which datasets stuck out the most to us. Then we brainstormed about a common attribute they all have in common. With the csvs from Toxic Release Inventory of Waterways, Sidewalk to Street Walkability Ratio of communities, and Bike Pavement Markings, we concluded on finding the best neighborhood for a triathlon. Other alternatives include safest neighborhood from natural disasters and safest neighborhood in general."
   ]
  },
  {
   "cell_type": "markdown",
   "metadata": {},
   "source": [
    "## Metric ##\n",
    "A triathlon consists of 3 parts: swimming, cycling, and running.\n",
    "\n",
    "For each part we are measuring the following:\n",
    "* Swimming - Cleanest waterways\n",
    "    * Dataset: https://data.wprdc.org/dataset/toxic-release-inventory\n",
    "* Cycling - Longest Bike Trails\n",
    "    * Dataset: https://data.wprdc.org/dataset/on-road-bicycle-pavement-markings\n",
    "* Running - Largest sidewalk to street ratio\n",
    "    * Dataset: https://data.wprdc.org/dataset/sidewalk-to-street-walkability-ratio"
   ]
  },
  {
   "cell_type": "markdown",
   "metadata": {},
   "source": [
    "## The Best Neighborhood for a Triathlon is... ##\n",
    "# ... #\n",
    "\n",
    "We think this is the best neighborhood because..."
   ]
  },
  {
   "cell_type": "markdown",
   "metadata": {},
   "source": [
    "## Conclusion ##\n",
    "\n",
    "### Katelyn's reflection ###\n",
    "\n",
    "### Samitha's reflection ###\n",
    "\n",
    "### Henry's reflection ###"
   ]
  }
 ],
 "metadata": {
  "kernelspec": {
   "display_name": "Python 3",
   "language": "python",
   "name": "python3"
  },
  "language_info": {
   "codemirror_mode": {
    "name": "ipython",
    "version": 3
   },
   "file_extension": ".py",
   "mimetype": "text/x-python",
   "name": "python",
   "nbconvert_exporter": "python",
   "pygments_lexer": "ipython3",
   "version": "3.8.3"
  }
 },
 "nbformat": 4,
 "nbformat_minor": 4
}
